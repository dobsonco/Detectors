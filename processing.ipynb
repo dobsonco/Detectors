{
 "cells": [
  {
   "cell_type": "markdown",
   "metadata": {},
   "source": [
    "# Processing Notebook"
   ]
  },
  {
   "cell_type": "code",
   "execution_count": 1,
   "metadata": {},
   "outputs": [],
   "source": [
    "import numpy as np\n",
    "import pandas as pd\n",
    "import matplotlib.pyplot as plt\n",
    "import seaborn as sns"
   ]
  },
  {
   "cell_type": "markdown",
   "metadata": {},
   "source": [
    "## Read csv"
   ]
  },
  {
   "cell_type": "code",
   "execution_count": 25,
   "metadata": {},
   "outputs": [],
   "source": [
    "df: pd.DataFrame = pd.read_csv(\"neutron5cm_7cmSciOver.csv\")\n",
    "original_len = len(df['vx'])"
   ]
  },
  {
   "cell_type": "code",
   "execution_count": 29,
   "metadata": {},
   "outputs": [
    {
     "name": "stdout",
     "output_type": "stream",
     "text": [
      "0.6867777277502627\n"
     ]
    }
   ],
   "source": [
    "nx,ny = 2,2\n",
    "n = nx * ny\n",
    "\n",
    "rep = {-1:0}\n",
    "df['total'] = np.zeros_like(df['vx']).astype(int)\n",
    "for i in range(n):\n",
    "    col = f'photons{i}'\n",
    "    df[col] = df[col].replace(rep)\n",
    "    df['total'] += df[col]\n",
    "\n",
    "print(sum(df['total'] > 0)/original_len)\n"
   ]
  },
  {
   "cell_type": "code",
   "execution_count": 31,
   "metadata": {},
   "outputs": [
    {
     "name": "stdout",
     "output_type": "stream",
     "text": [
      "0.7032774580935702\n",
      "0.6870260299241648\n",
      "0.6867777277502627\n"
     ]
    }
   ],
   "source": [
    "nx,ny = 2,2\n",
    "n = nx * ny\n",
    "\n",
    "rep = {-1:0}\n",
    "sizes = [2,5,7]\n",
    "for s in sizes:\n",
    "    df = pd.read_csv(f\"neutron5cm_{s}cmSciOver.csv\")\n",
    "    df['total'] = np.zeros_like(df['vx']).astype(int)\n",
    "    original_len = len(df['vx'])\n",
    "    for i in range(n):\n",
    "        col = f'photons{i}'\n",
    "        df[col] = df[col].replace(rep)\n",
    "        df['total'] += df[col]\n",
    "\n",
    "    print(sum(df['total'] > 0)/original_len)\n"
   ]
  },
  {
   "cell_type": "markdown",
   "metadata": {},
   "source": [
    "## Dynamically determine which columns are right or left and up or down"
   ]
  },
  {
   "cell_type": "code",
   "execution_count": 7,
   "metadata": {},
   "outputs": [
    {
     "name": "stdout",
     "output_type": "stream",
     "text": [
      "left: 0\n",
      "down: 0\n",
      "left: 1\n",
      "up: 1\n",
      "right 2\n",
      "down: 2\n",
      "right 3\n",
      "up: 3\n"
     ]
    }
   ],
   "source": [
    "left_dropnames = [] # Columns to drop to get left subset\n",
    "right_dropnames = [] # Columns to drop to get right subset\n",
    "up_dropnames = [] # Columns to drop to get up subset\n",
    "down_dropnames = [] # Columns to drop to get down subset\n",
    "nx = 2\n",
    "ny = 2\n",
    "num = 0\n",
    "for i in range(nx):\n",
    "    for j in range(ny):\n",
    "        if i < (nx / 2):\n",
    "            print(\"left:\",num)\n",
    "            right_dropnames.append(f\"photons{num}\")\n",
    "            right_dropnames.append(f\"ypos{num}\")\n",
    "            right_dropnames.append(f\"xpos{num}\")\n",
    "        else:\n",
    "            print(\"right\",num)\n",
    "            left_dropnames.append(f\"photons{num}\")\n",
    "            left_dropnames.append(f\"ypos{num}\")\n",
    "            left_dropnames.append(f\"xpos{num}\")\n",
    "\n",
    "        if j < (ny / 2):\n",
    "            print(\"down:\",num)\n",
    "            up_dropnames.append(f\"photons{num}\")\n",
    "            up_dropnames.append(f\"ypos{num}\")\n",
    "            up_dropnames.append(f\"xpos{num}\")\n",
    "        else:\n",
    "            print('up:',num)\n",
    "            down_dropnames.append(f\"photons{num}\")\n",
    "            down_dropnames.append(f\"ypos{num}\")\n",
    "            down_dropnames.append(f\"xpos{num}\")\n",
    "\n",
    "        num += 1"
   ]
  },
  {
   "cell_type": "markdown",
   "metadata": {},
   "source": [
    "## Create R,L,U,D Subsets and Find totals"
   ]
  },
  {
   "cell_type": "code",
   "execution_count": 4,
   "metadata": {},
   "outputs": [],
   "source": [
    "left: pd.DataFrame = df.drop(left_dropnames,axis=1)\n",
    "right: pd.DataFrame = df.drop(right_dropnames,axis=1)\n",
    "up: pd.DataFrame = df.drop(up_dropnames,axis=1)\n",
    "down: pd.DataFrame = df.drop(down_dropnames,axis=1)"
   ]
  },
  {
   "cell_type": "code",
   "execution_count": null,
   "metadata": {},
   "outputs": [],
   "source": [
    "n = nx * ny\n",
    "\n",
    "left['total'] = np.zeros_like(left['vx']).astype(int)\n",
    "right[\"total\"] = np.zeros_like(right['vx']).astype(int)\n",
    "up['total'] = np.zeros_like(up['vx']).astype(int)\n",
    "down['total'] = np.zeros_like(down['vx']).astype(int)\n",
    "for i in range(n):\n",
    "    # LEFT AND RIGHT\n",
    "    try:\n",
    "        left['total'] = left['total'] + left[f\"photons{i}\"]\n",
    "    except:\n",
    "        pass\n",
    "    try:\n",
    "        right['total'] = right['total'] + right[f\"photons{i}\"]\n",
    "    except:\n",
    "        pass\n",
    "\n",
    "    # UP AND DOWN\n",
    "    try:\n",
    "        up['total'] = up['total'] + up[f'photons{i}']\n",
    "    except:\n",
    "        pass\n",
    "    try:\n",
    "        down['total'] = down['total'] + down[f'photons{i}']\n",
    "    except:\n",
    "        pass\n",
    "\n",
    "df['total'] = left['total'] + right['total']\n",
    "\n",
    "NOPHOTONS_LorR = np.logical_and(left['total']>0, right['total']>0) # Mask to drop all rows where no photons were detected on the left or the right side\n",
    "NOPHOTONS_UorD = np.logical_and(up['total']>0, down['total']>0)\n",
    "NOPHOTONS_All = np.logical_and(NOPHOTONS_LorR, NOPHOTONS_UorD)\n",
    "NOTENOUGH = np.logical_and(df['total'] > 5, NOPHOTONS_All)\n",
    "\n",
    "ONEEVENT = df['total'] == 1"
   ]
  },
  {
   "cell_type": "code",
   "execution_count": null,
   "metadata": {},
   "outputs": [],
   "source": [
    "left = left[NOTENOUGH]\n",
    "right = right[NOTENOUGH]\n",
    "up = up[NOTENOUGH]\n",
    "down = down[NOTENOUGH]\n",
    "df = df[NOTENOUGH]\n",
    "\n",
    "left = left.reset_index()\n",
    "right = right.reset_index()\n",
    "up = up.reset_index()\n",
    "down = down.reset_index()\n",
    "df = df.reset_index()"
   ]
  },
  {
   "cell_type": "markdown",
   "metadata": {},
   "source": [
    "## Efficiency"
   ]
  },
  {
   "cell_type": "code",
   "execution_count": null,
   "metadata": {},
   "outputs": [],
   "source": [
    "print(f'Efficiency: {len(df['vx']) / original_len * 100}%')"
   ]
  },
  {
   "cell_type": "markdown",
   "metadata": {},
   "source": [
    "## Plots"
   ]
  },
  {
   "cell_type": "code",
   "execution_count": null,
   "metadata": {},
   "outputs": [],
   "source": [
    "left_ratio = left['total']/df['total']\n",
    "print(np.argmax(left_ratio))\n",
    "sns.scatterplot(y=df[\"vx\"],x=left_ratio)\n",
    "plt.title(\"Left Ratio versus vx\")\n",
    "plt.xlabel(\"Left Ratio\")\n",
    "plt.ylabel(\"vx\")"
   ]
  },
  {
   "cell_type": "code",
   "execution_count": null,
   "metadata": {},
   "outputs": [],
   "source": [
    "right_ratio = right['total']/df['total']\n",
    "sns.scatterplot(y=df[\"vx\"],x=right_ratio)\n",
    "plt.title(\"vx versus Right Ratio\")\n",
    "plt.xlabel(\"Right Ratio\")\n",
    "plt.ylabel(\"vx\")"
   ]
  },
  {
   "cell_type": "code",
   "execution_count": null,
   "metadata": {},
   "outputs": [],
   "source": [
    "up_ratio = up['total']/df['total']\n",
    "sns.scatterplot(y=df[\"vy\"],x=up_ratio)\n",
    "plt.title(\"vy versus Up ratio\")\n",
    "plt.xlabel(\"Up Ratio\")\n",
    "plt.ylabel(\"vy\")"
   ]
  },
  {
   "cell_type": "code",
   "execution_count": null,
   "metadata": {},
   "outputs": [],
   "source": [
    "down_ratio = down['total']/df['total']\n",
    "sns.scatterplot(y=df[\"vy\"],x=down_ratio)\n",
    "plt.title(\"vy versus Down Ratio\")\n",
    "plt.xlabel(\"Down Ratio\")\n",
    "plt.ylabel(\"vy\")"
   ]
  },
  {
   "cell_type": "markdown",
   "metadata": {},
   "source": [
    "## Curve Fits"
   ]
  },
  {
   "cell_type": "code",
   "execution_count": null,
   "metadata": {},
   "outputs": [],
   "source": [
    "p = np.poly1d(np.polyfit(x=up_ratio,y=up['vy'],deg=3))\n",
    "pred = p(up_ratio)\n",
    "sns.scatterplot(x=up_ratio,y=up['vy'])\n",
    "sns.lineplot(x=up_ratio,y=pred,c='black')\n",
    "plt.xlabel('up ratio')\n",
    "plt.ylabel('y vertex')\n",
    "plt.title('y vertex versus ratio')\n",
    "\n",
    "ybar = np.mean(up['vy'])\n",
    "SST = sum((up['vy'] - ybar)**2)\n",
    "SSReg = sum((pred - ybar)**2)\n",
    "print(SSReg/SST)"
   ]
  },
  {
   "cell_type": "code",
   "execution_count": null,
   "metadata": {},
   "outputs": [],
   "source": [
    "fig,ax = plt.subplots(1,1)\n",
    "ax.set_facecolor('#ADD8E6')\n",
    "ax.set_axisbelow(True)\n",
    "ax.yaxis.grid(color='white', linestyle='-')\n",
    "ax.xaxis.grid(color='white', linestyle='-')\n",
    "sns.scatterplot(x=left_ratio,y=up['vx'])\n",
    "for i in range(6):\n",
    "    p = np.poly1d(np.polyfit(x=left_ratio,y=left['vx'],deg=i+1))\n",
    "    pred = p(left_ratio)\n",
    "    sns.lineplot(x=left_ratio,y=pred,label=f\"deg = {i+1}\")\n",
    "plt.xlabel('left ratio')\n",
    "plt.ylabel('x vertex')\n",
    "plt.title('x vertex versus ratio (10 cm separation)')\n",
    "plt.savefig(\"fits.jpg\")\n",
    "\n",
    "ybar = np.mean(left['vx'])\n",
    "SST = sum((left['vx'] - ybar)**2)\n",
    "SSReg = sum((pred - ybar)**2)\n",
    "print(SSReg/SST)"
   ]
  },
  {
   "cell_type": "markdown",
   "metadata": {},
   "source": [
    "## Standard Deviations"
   ]
  },
  {
   "cell_type": "code",
   "execution_count": null,
   "metadata": {},
   "outputs": [],
   "source": [
    "degree = []\n",
    "xsds = []\n",
    "ysds = []\n",
    "for i in range(10):\n",
    "    p = np.poly1d(np.polyfit(x=left_ratio,y=left['vx'],deg=i))\n",
    "    pred = p(left_ratio)\n",
    "    xsds.append(np.std(pred-up['vx']))\n",
    "\n",
    "    p = np.poly1d(np.polyfit(x=up_ratio,y=up['vy'],deg=i))\n",
    "    pred = p(up_ratio)\n",
    "    ysds.append(np.std(pred-up['vy']))\n",
    "\n",
    "    degree.append(i)\n",
    "\n",
    "\n",
    "fig,ax = plt.subplots(1,1)\n",
    "sns.lineplot(ax=ax,x=degree,y=np.array(xsds)/10,label='x SD',c='salmon')\n",
    "sns.lineplot(ax=ax,x=degree,y=np.array(ysds)/10,label='y SD',c='purple')\n",
    "ax.set_facecolor('#ADD8E6')\n",
    "ax.set_axisbelow(True)\n",
    "ax.yaxis.grid(color='white', linestyle='-')\n",
    "ax.xaxis.grid(color='white', linestyle='-')\n",
    "plt.xlabel(\"Polyfit Degree\")\n",
    "plt.ylabel(\"Standard Deviation (cm)\")\n",
    "plt.title(\"Std vs degree (10 cm separation gate > 100)\")\n",
    "plt.savefig(\"degree.jpg\",dpi=300)"
   ]
  },
  {
   "cell_type": "code",
   "execution_count": null,
   "metadata": {},
   "outputs": [],
   "source": []
  }
 ],
 "metadata": {
  "kernelspec": {
   "display_name": "base",
   "language": "python",
   "name": "python3"
  },
  "language_info": {
   "codemirror_mode": {
    "name": "ipython",
    "version": 3
   },
   "file_extension": ".py",
   "mimetype": "text/x-python",
   "name": "python",
   "nbconvert_exporter": "python",
   "pygments_lexer": "ipython3",
   "version": "3.12.0"
  }
 },
 "nbformat": 4,
 "nbformat_minor": 2
}
