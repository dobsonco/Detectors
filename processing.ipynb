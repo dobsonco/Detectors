{
 "cells": [
  {
   "cell_type": "markdown",
   "metadata": {},
   "source": [
    "# Processing Notebook"
   ]
  },
  {
   "cell_type": "code",
   "execution_count": 2,
   "metadata": {},
   "outputs": [],
   "source": [
    "import warnings\n",
    "warnings.filterwarnings(\"ignore\")\n",
    "import numpy as np\n",
    "import pandas as pd\n",
    "import matplotlib.pyplot as plt\n",
    "import seaborn as sns"
   ]
  },
  {
   "cell_type": "markdown",
   "metadata": {},
   "source": [
    "## Read csv"
   ]
  },
  {
   "cell_type": "code",
   "execution_count": null,
   "metadata": {},
   "outputs": [],
   "source": [
    "nx,ny = 2,2\n",
    "n = nx * ny\n",
    "\n",
    "rep = {-1:0}\n",
    "sizes = [2,5,7]\n",
    "lens = []\n",
    "dataframes = {}\n",
    "for s in sizes:\n",
    "    df = pd.read_csv(f\"neutron5cm_{s}cmSciOver_Ref.csv\")\n",
    "    df['total'] = np.zeros_like(df['vx']).astype(int)\n",
    "    original_len = len(df['vx'])\n",
    "    lens.append(original_len)\n",
    "    for i in range(n):\n",
    "        col = f'photons{i}'\n",
    "        df[col] = df[col].replace(rep)\n",
    "        df['total'] += df[col]\n",
    "    df['zpred'] = np.ones_like(df['vx']).astype(float) * s/2\n",
    "    dataframes[f\"{s}Sci\"] = df\n",
    "\n",
    "    print(f'{s}cm Sci Perfect Efficiency: {sum(df['total'] > 0)/original_len * 100}%')\n"
   ]
  },
  {
   "cell_type": "markdown",
   "metadata": {},
   "source": [
    "## Drop rows with no detections"
   ]
  },
  {
   "cell_type": "code",
   "execution_count": null,
   "metadata": {},
   "outputs": [],
   "source": [
    "for key in dataframes.keys():\n",
    "    frame: pd.DataFrame = dataframes[key]\n",
    "    frame = frame[frame['total'] > 0]\n",
    "    dataframes[key] = frame"
   ]
  },
  {
   "cell_type": "markdown",
   "metadata": {},
   "source": [
    "## Determine indeces of rows where only ONEDETECTION detector detects and drop rows that are not one detector events and have < 5 photons"
   ]
  },
  {
   "cell_type": "code",
   "execution_count": null,
   "metadata": {},
   "outputs": [],
   "source": [
    "for key in dataframes.keys():\n",
    "    tmp = np.zeros_like(dataframes[key]['vx']).astype(int)\n",
    "    original_len = len(tmp)\n",
    "    for i in range(nx * ny):\n",
    "        col = f'photons{i}'\n",
    "        tmp += dataframes[key][col] > 0\n",
    "\n",
    "    ONEDETECTION = tmp == 1\n",
    "    dataframes[key][\"ONEDETECTION\"] = ONEDETECTION\n",
    "\n",
    "    NOTENOUGH = ~np.logical_and(~ONEDETECTION,dataframes[key]['total'] < 5)\n",
    "    dataframes[key] = dataframes[key][NOTENOUGH]\n"
   ]
  },
  {
   "cell_type": "markdown",
   "metadata": {},
   "source": [
    "## Handle Single Detector Events"
   ]
  },
  {
   "cell_type": "code",
   "execution_count": null,
   "metadata": {},
   "outputs": [],
   "source": [
    "for key in dataframes.keys():\n",
    "    frame = dataframes[key].copy()\n",
    "    ONE = frame[\"ONEDETECTION\"]\n",
    "    frame = frame[ONE]\n",
    "    frame['xpred'] = np.ones_like(frame['vx'])\n",
    "    frame['ypred'] = np.ones_like(frame['vx'])\n",
    "    for i in range(nx * ny):\n",
    "        xmask = frame[f\"photons{i}\"] > 0\n",
    "        xpred = frame.loc[:,'xpred'][xmask] * frame.loc[:,f'xpos{i}'][xmask]\n",
    "        frame['xpred'][xmask] = xpred\n",
    "\n",
    "        ymask = frame[f\"photons{i}\"] > 0\n",
    "        ypred = frame.loc[:,'ypred'][ymask] * frame.loc[:,f'ypos{i}'][ymask]\n",
    "        frame['ypred'][ymask] = ypred\n",
    "\n",
    "    dataframes[key]['xpred'] = np.zeros_like(ONE).astype(float)\n",
    "    dataframes[key]['ypred'] = np.zeros_like(ONE).astype(float)\n",
    "    dataframes[key]['xpred'][ONE] = frame['xpred']\n",
    "    dataframes[key]['ypred'][ONE] = frame['ypred']"
   ]
  },
  {
   "cell_type": "markdown",
   "metadata": {},
   "source": [
    "## Dynamically determine which columns are right or left and up or down"
   ]
  },
  {
   "cell_type": "code",
   "execution_count": null,
   "metadata": {},
   "outputs": [],
   "source": [
    "left_dropnames = [] # Columns to drop to get left subset\n",
    "right_dropnames = [] # Columns to drop to get right subset\n",
    "up_dropnames = [] # Columns to drop to get up subset\n",
    "down_dropnames = [] # Columns to drop to get down subset\n",
    "nx = 2\n",
    "ny = 2\n",
    "num = 0\n",
    "for i in range(nx):\n",
    "    for j in range(ny):\n",
    "        # if i < (nx / 2):\n",
    "        #     print(\"left:\",num)\n",
    "        #     right_dropnames.append(f\"photons{num}\")\n",
    "        #     right_dropnames.append(f\"ypos{num}\")\n",
    "        #     right_dropnames.append(f\"xpos{num}\")\n",
    "        # else:\n",
    "        if not (i < (nx / 2)):\n",
    "            print(\"right:\",num)\n",
    "            left_dropnames.append(f\"photons{num}\")\n",
    "            left_dropnames.append(f\"ypos{num}\")\n",
    "            left_dropnames.append(f\"xpos{num}\")\n",
    "\n",
    "        if j < (ny / 2):\n",
    "            print(\"down:\",num)\n",
    "            up_dropnames.append(f\"photons{num}\")\n",
    "            up_dropnames.append(f\"ypos{num}\")\n",
    "            up_dropnames.append(f\"xpos{num}\")\n",
    "        # else:\n",
    "        #     print('up:',num)\n",
    "        #     down_dropnames.append(f\"photons{num}\")\n",
    "        #     down_dropnames.append(f\"ypos{num}\")\n",
    "        #     down_dropnames.append(f\"xpos{num}\")\n",
    "\n",
    "        num += 1"
   ]
  },
  {
   "cell_type": "markdown",
   "metadata": {},
   "source": [
    "## Create R,L,U,D Subsets, Find totals, and Predictions"
   ]
  },
  {
   "cell_type": "code",
   "execution_count": null,
   "metadata": {},
   "outputs": [],
   "source": [
    "for key in dataframes.keys():\n",
    "    frame = dataframes[key].copy()\n",
    "    MORETHAN1 = ~frame['ONEDETECTION']\n",
    "    frame = frame[MORETHAN1]\n",
    "\n",
    "    left = frame.drop(left_dropnames,axis=1)\n",
    "    left['total'] = np.zeros_like(left['vx']).astype(int)\n",
    "    up = frame.drop(up_dropnames,axis=1)\n",
    "    up['total'] = np.zeros_like(up['vx']).astype(int)\n",
    "\n",
    "    for i in range(nx * ny):\n",
    "        # LEFT\n",
    "        try:\n",
    "            left['total'] = left['total'] + left[f\"photons{i}\"]\n",
    "        except:\n",
    "            pass\n",
    "        # UP\n",
    "        try:\n",
    "            up['total'] = up['total'] + up[f'photons{i}']\n",
    "        except:\n",
    "            pass\n",
    "\n",
    "    Lratio = left['total'] / frame['total']\n",
    "    Uratio = up['total'] / frame['total']\n",
    "\n",
    "    px = np.poly1d(np.polyfit(x=Lratio,y=left['vx'],deg=2))\n",
    "    xpred = px(Lratio)\n",
    "\n",
    "    py = np.poly1d(np.polyfit(x=Uratio,y=left['vy'],deg=2))\n",
    "    ypred = py(Uratio)\n",
    "\n",
    "    dataframes[key]['xpred'][MORETHAN1] = xpred\n",
    "    dataframes[key]['ypred'][MORETHAN1] = ypred"
   ]
  },
  {
   "cell_type": "markdown",
   "metadata": {},
   "source": [
    "## Standard Deviations\n"
   ]
  },
  {
   "cell_type": "code",
   "execution_count": null,
   "metadata": {},
   "outputs": [],
   "source": [
    "xsds = np.ones(len(dataframes))\n",
    "ysds = xsds.copy()\n",
    "zsds = xsds.copy()\n",
    "\n",
    "for i,key in enumerate(dataframes):\n",
    "    yhat = dataframes[key]['ypred']\n",
    "    y = dataframes[key]['vy']\n",
    "\n",
    "    xhat = dataframes[key]['xpred']\n",
    "    x = dataframes[key]['vx']\n",
    "\n",
    "    zhat = dataframes[key]['zpred']\n",
    "    z = dataframes[key]['vz']\n",
    "\n",
    "    xsds[i] = np.std(xhat-x)\n",
    "    ysds[i] = np.std(yhat-y) \n",
    "    zsds[i] = np.std(zhat-z)"
   ]
  },
  {
   "cell_type": "code",
   "execution_count": null,
   "metadata": {},
   "outputs": [],
   "source": [
    "fig,ax = plt.subplots(1,1)\n",
    "sns.scatterplot(x=[2,5,7],y=xsds)\n",
    "sns.lineplot(x=[2,5,7],y=xsds)\n",
    "sns.scatterplot(x=[2,5,7],y=ysds,c='orange')\n",
    "sns.lineplot(x=[2,5,7],y=ysds,c='orange')\n",
    "sns.scatterplot(x=[2,5,7],y=zsds,c='salmon')\n",
    "sns.lineplot(x=[2,5,7],y=zsds,c='salmon')\n",
    "plt.title('Error Standard Deviation (mm) vs Scintillator Thickness')\n",
    "plt.xlabel('Scintillator Thickness (cm)')\n",
    "plt.ylabel('Error Standard Deviation (mm)')\n",
    "ax.set_facecolor('#ADD8E6')\n",
    "ax.set_axisbelow(True)\n",
    "ax.yaxis.grid(color='white', linestyle='-')\n",
    "ax.xaxis.grid(color='white', linestyle='-')"
   ]
  },
  {
   "cell_type": "markdown",
   "metadata": {},
   "source": [
    "## Efficiencies"
   ]
  },
  {
   "cell_type": "code",
   "execution_count": null,
   "metadata": {},
   "outputs": [],
   "source": [
    "for i,key in enumerate(dataframes):\n",
    "    print(f'Efficiency for {key[0]}cm Scintillator is {len(dataframes[key]['xpred']) / lens[i] * 100}%')"
   ]
  },
  {
   "cell_type": "markdown",
   "metadata": {},
   "source": [
    "## Wrap It all up into one function"
   ]
  },
  {
   "cell_type": "code",
   "execution_count": 4,
   "metadata": {},
   "outputs": [
    {
     "name": "stdout",
     "output_type": "stream",
     "text": [
      "2cm Sci Perfect Efficiency: 75.04857063558146%\n",
      "5cm Sci Perfect Efficiency: 73.54041916167665%\n",
      "7cm Sci Perfect Efficiency: 73.22575333443109%\n",
      "Efficiency for 2cm Scintillator is 71.05190119344991%\n",
      "Efficiency for 5cm Scintillator is 70.39670658682635%\n",
      "Efficiency for 7cm Scintillator is 69.85015643010044%\n"
     ]
    },
    {
     "data": {
      "image/png": "[encoded data removed]",
      "text/plain": [
       "<Figure size 640x480 with 1 Axes>"
      ]
     },
     "metadata": {},
     "output_type": "display_data"
    }
   ],
   "source": [
    "def doItAll():\n",
    "    nx,ny = 2,2\n",
    "    n = nx * ny\n",
    "\n",
    "    rep = {-1:0}\n",
    "    sizes = [2,5,7]\n",
    "    lens = []\n",
    "    dataframes = {}\n",
    "    for s in sizes:\n",
    "        df = pd.read_csv(f\"neutron5cm_{s}cmSciOver_NoRef.csv\")\n",
    "        df['total'] = np.zeros_like(df['vx']).astype(int)\n",
    "        original_len = len(df['vx'])\n",
    "        lens.append(original_len)\n",
    "        for i in range(n):\n",
    "            col = f'photons{i}'\n",
    "            df[col] = df[col].replace(rep)\n",
    "            df['total'] += df[col]\n",
    "        df['zpred'] = np.ones_like(df['vx']).astype(float) * s/2\n",
    "        dataframes[f\"{s}Sci\"] = df\n",
    "\n",
    "        print(f'{s}cm Sci Perfect Efficiency: {sum(df['total'] > 0)/original_len * 100}%')\n",
    "\n",
    "    for key in dataframes.keys():\n",
    "        frame: pd.DataFrame = dataframes[key]\n",
    "        frame = frame[frame['total'] > 0]\n",
    "        dataframes[key] = frame\n",
    "\n",
    "        del frame\n",
    "\n",
    "    for key in dataframes.keys():\n",
    "        tmp = np.zeros_like(dataframes[key]['vx']).astype(int)\n",
    "        original_len = len(tmp)\n",
    "        for i in range(nx * ny):\n",
    "            col = f'photons{i}'\n",
    "            tmp += dataframes[key][col] > 0\n",
    "\n",
    "        ONEDETECTION = tmp == 1\n",
    "        dataframes[key][\"ONEDETECTION\"] = ONEDETECTION\n",
    "\n",
    "        NOTENOUGH = ~np.logical_and(~ONEDETECTION,dataframes[key]['total'] < 5)\n",
    "        dataframes[key] = dataframes[key][NOTENOUGH]\n",
    "\n",
    "    for key in dataframes.keys():\n",
    "        frame = dataframes[key].copy()\n",
    "        ONE = frame[\"ONEDETECTION\"]\n",
    "        frame = frame[ONE]\n",
    "        frame['xpred'] = np.ones_like(frame['vx'])\n",
    "        frame['ypred'] = np.ones_like(frame['vx'])\n",
    "        for i in range(nx * ny):\n",
    "            xmask = frame[f\"photons{i}\"] > 0\n",
    "            xpred = frame.loc[:,'xpred'][xmask] * frame.loc[:,f'xpos{i}'][xmask]\n",
    "            frame['xpred'][xmask] = xpred\n",
    "\n",
    "            ymask = frame[f\"photons{i}\"] > 0\n",
    "            ypred = frame.loc[:,'ypred'][ymask] * frame.loc[:,f'ypos{i}'][ymask]\n",
    "            frame['ypred'][ymask] = ypred\n",
    "\n",
    "        dataframes[key]['xpred'] = np.zeros_like(ONE).astype(float)\n",
    "        dataframes[key]['ypred'] = np.zeros_like(ONE).astype(float)\n",
    "        dataframes[key]['xpred'][ONE] = frame['xpred']\n",
    "        dataframes[key]['ypred'][ONE] = frame['ypred']\n",
    "\n",
    "        del frame\n",
    "\n",
    "    left_dropnames = [] # Columns to drop to get left subset\n",
    "    up_dropnames = [] # Columns to drop to get up subset\n",
    "    nx = 2\n",
    "    ny = 2\n",
    "    num = 0\n",
    "    for i in range(nx):\n",
    "        for j in range(ny):\n",
    "            if not (i < (nx / 2)):\n",
    "                left_dropnames.append(f\"photons{num}\")\n",
    "                left_dropnames.append(f\"ypos{num}\")\n",
    "                left_dropnames.append(f\"xpos{num}\")\n",
    "\n",
    "            if j < (ny / 2):\n",
    "                up_dropnames.append(f\"photons{num}\")\n",
    "                up_dropnames.append(f\"ypos{num}\")\n",
    "                up_dropnames.append(f\"xpos{num}\")\n",
    "\n",
    "            num += 1\n",
    "\n",
    "    for key in dataframes.keys():\n",
    "        frame = dataframes[key].copy()\n",
    "        MORETHAN1 = ~frame['ONEDETECTION']\n",
    "        frame = frame[MORETHAN1]\n",
    "\n",
    "        left = frame.drop(left_dropnames,axis=1)\n",
    "        left['total'] = np.zeros_like(left['vx']).astype(int)\n",
    "        up = frame.drop(up_dropnames,axis=1)\n",
    "        up['total'] = np.zeros_like(up['vx']).astype(int)\n",
    "\n",
    "        for i in range(nx * ny):\n",
    "            # LEFT\n",
    "            try:\n",
    "                left['total'] = left['total'] + left[f\"photons{i}\"]\n",
    "            except:\n",
    "                pass\n",
    "            # UP\n",
    "            try:\n",
    "                up['total'] = up['total'] + up[f'photons{i}']\n",
    "            except:\n",
    "                pass\n",
    "\n",
    "        Lratio = left['total'] / frame['total']\n",
    "        Uratio = up['total'] / frame['total']\n",
    "\n",
    "        px = np.poly1d(np.polyfit(x=Lratio,y=left['vx'],deg=2))\n",
    "        xpred = px(Lratio)\n",
    "\n",
    "        py = np.poly1d(np.polyfit(x=Uratio,y=left['vy'],deg=2))\n",
    "        ypred = py(Uratio)\n",
    "\n",
    "        dataframes[key]['xpred'][MORETHAN1] = xpred\n",
    "        dataframes[key]['ypred'][MORETHAN1] = ypred\n",
    "\n",
    "        del frame\n",
    "\n",
    "    xsds = np.ones(len(dataframes))\n",
    "    ysds = xsds.copy()\n",
    "    zsds = xsds.copy()\n",
    "\n",
    "    for i,key in enumerate(dataframes):\n",
    "        yhat = dataframes[key]['ypred']\n",
    "        y = dataframes[key]['vy']\n",
    "\n",
    "        xhat = dataframes[key]['xpred']\n",
    "        x = dataframes[key]['vx']\n",
    "\n",
    "        zhat = dataframes[key]['zpred']\n",
    "        z = dataframes[key]['vz']\n",
    "\n",
    "        xsds[i] = np.std(xhat-x)\n",
    "        ysds[i] = np.std(yhat-y) \n",
    "        zsds[i] = np.std(zhat-z)\n",
    "\n",
    "    for i,key in enumerate(dataframes):\n",
    "        print(f'Efficiency for {key[0]}cm Scintillator is {len(dataframes[key]['xpred']) / lens[i] * 100}%')\n",
    "\n",
    "    fig,ax = plt.subplots(1,1)\n",
    "    sns.scatterplot(x=sizes,y=xsds,label='x std')\n",
    "    sns.lineplot(x=sizes,y=xsds)\n",
    "    sns.scatterplot(x=sizes,y=ysds,c='orange',label='y std')\n",
    "    sns.lineplot(x=sizes,y=ysds,c='orange')\n",
    "    sns.scatterplot(x=sizes,y=zsds,c='salmon',label='z std')\n",
    "    sns.lineplot(x=sizes,y=zsds,c='salmon')\n",
    "    plt.title('Error Standard Deviation (mm) vs Scintillator Thickness')\n",
    "    plt.xlabel('Scintillator Thickness (cm)')\n",
    "    plt.ylabel('Error Standard Deviation (mm)')\n",
    "    ax.set_facecolor('#ADD8E6')\n",
    "    ax.set_axisbelow(True)\n",
    "    ax.yaxis.grid(color='white', linestyle='-')\n",
    "    ax.xaxis.grid(color='white', linestyle='-')\n",
    "    \n",
    "doItAll()"
   ]
  },
  {
   "cell_type": "code",
   "execution_count": 14,
   "metadata": {},
   "outputs": [
    {
     "name": "stdout",
     "output_type": "stream",
     "text": [
      "5cm Sci Perfect Efficiency: 83.1461948508563%\n"
     ]
    }
   ],
   "source": [
    "n = 4 * 4\n",
    "rep = {-1:0}\n",
    "df = pd.read_csv(f\"neutron5cm_5cmSci_4x4.csv\")\n",
    "df['total'] = np.zeros_like(df['vx']).astype(int)\n",
    "original_len = len(df['vx'])\n",
    "for i in range(n):\n",
    "    col = f'photons{i}'\n",
    "    df[col] = df[col].replace(rep)\n",
    "    df['total'] += df[col]\n",
    "\n",
    "print(f'5cm Sci Perfect Efficiency: {sum(df['total'] > 0)/original_len * 100}%')\n",
    "print(sum(df['total']))"
   ]
  },
  {
   "cell_type": "code",
   "execution_count": null,
   "metadata": {},
   "outputs": [],
   "source": []
  }
 ],
 "metadata": {
  "kernelspec": {
   "display_name": "base",
   "language": "python",
   "name": "python3"
  },
  "language_info": {
   "codemirror_mode": {
    "name": "ipython",
    "version": 3
   },
   "file_extension": ".py",
   "mimetype": "text/x-python",
   "name": "python",
   "nbconvert_exporter": "python",
   "pygments_lexer": "ipython3",
   "version": "3.12.0"
  }
 },
 "nbformat": 4,
 "nbformat_minor": 2
}
